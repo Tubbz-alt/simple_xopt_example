{
 "cells": [
  {
   "cell_type": "markdown",
   "metadata": {},
   "source": [
    "# Running Elegant with XOPT + Archiving"
   ]
  },
  {
   "cell_type": "code",
   "execution_count": 1,
   "metadata": {},
   "outputs": [],
   "source": [
    "# Useful for debugging\n",
    "%load_ext autoreload\n",
    "%autoreload 2\n",
    "import sys\n",
    "lume_path = ''\n",
    "sys.path.append(lume_path + 'openPMD-beamphysics')\n",
    "sys.path.append(lume_path + 'distgen')\n",
    "sys.path.append(lume_path + 'xopt')"
   ]
  },
  {
   "cell_type": "code",
   "execution_count": 2,
   "metadata": {},
   "outputs": [],
   "source": [
    "# Import the class\n",
    "from xopt import Xopt"
   ]
  },
  {
   "cell_type": "markdown",
   "metadata": {},
   "source": [
    "### Make YAML and Run with Random Inputs"
   ]
  },
  {
   "cell_type": "code",
   "execution_count": 3,
   "metadata": {},
   "outputs": [],
   "source": [
    "# Make a proper input file. \n",
    "YAML=\"\"\"\n",
    "xopt: {output_path: output , verbose: true, algorithm: cnsga}\n",
    "\n",
    "algorithm:\n",
    "  name: cnsga\n",
    "  options: {max_generations: 3, population_size: 4, crossover_probability: 0.9, mutation_probability: 1.0,\n",
    "  selection: auto, verbose: true, population: null}\n",
    "  \n",
    "simulation: \n",
    "  name: test_elegant\n",
    "  evaluate: run_elegant.evaluate_elegant  \n",
    "vocs:\n",
    "  name: Elegant_test\n",
    "  description: null\n",
    "  simulation: test_elegant\n",
    "  templates: null\n",
    "  variables:\n",
    "    L1_9_50_phase: [30, 70]\n",
    "    L1_9_25_phase: [50, 80]\n",
    "    L1_10_25_phase: [30, 70]\n",
    "    X1_Xband_phase: [-120, -50]\n",
    "#    L2_10_50_phase: [30, 70]\n",
    "    L2_10_25_phase: [30, 60]\n",
    "#    X_MAX: [0.5e-3, 3.0e-3]\n",
    "#    DX: [0.9e-3, 1.1e-3]\n",
    "#    DP: [10.0e-5, 18.0e-5]\n",
    "  objectives:\n",
    "    sigma_pz: MINIMIZE\n",
    "    norm_emit_x: MINIMIZE\n",
    "#    sigma_t: MINIMIZE\n",
    "#    ptp_t: MINIMIZE\n",
    "#    core_pz: MINIMIZE\n",
    "#    core_current: MAXIMIZE\n",
    "  constraints:\n",
    " #   sigma_pz: [LESS_THAN, 4.0e+6]\n",
    "    norm_emit_x: [LESS_THAN, 0.6e-6]\n",
    "    ptp_t: [LESS_THAN, 6.0e-14]\n",
    "  #  sigma_t: [LESS_THAN, 3.0e-15]\n",
    "  #  mean_pz: [GREATER_THAN, 6.0e+9]\n",
    "    charge: [GREATER_THAN, 5.0e-11]\n",
    "  linked_variables: {L2_10_50_phase: L2_10_25_phase}\n",
    "  constants: \n",
    "#    L1_9_25_phase: 65.108\n",
    "#    L2_10_25_phase: 57.0\n",
    "    L3_10_25_volt: 1.6628471874e+7\n",
    "    L3_10_50_volt: 1.6628471874e+7\n",
    "    X_MAX: 5.0e-3\n",
    "    DX: 1.1e-3\n",
    "    DP: 16.0e-5\n",
    "    INPUT_FILE: /global/u2/a/aedelen/GitHub/elegant_particles.txt\n",
    "    sample_interval: 1000\n",
    "    \n",
    "\n",
    "\"\"\"\n",
    "\n"
   ]
  },
  {
   "cell_type": "code",
   "execution_count": 4,
   "metadata": {},
   "outputs": [
    {
     "name": "stdout",
     "output_type": "stream",
     "text": [
      "Loading config as text\n"
     ]
    }
   ],
   "source": [
    "X = Xopt(YAML)"
   ]
  },
  {
   "cell_type": "code",
   "execution_count": 5,
   "metadata": {},
   "outputs": [
    {
     "data": {
      "text/plain": [
       "\n",
       "            Xopt \n",
       "________________________________           \n",
       "Version: 0.4.1\n",
       "Configured: True\n",
       "Config as YAML:\n",
       "xopt: {output_path: /global/u2/a/aedelen/elegant_example/output, verbose: true, algorithm: cnsga}\n",
       "algorithm:\n",
       "  name: cnsga\n",
       "  function: xopt.cnsga.cnsga\n",
       "  options: {max_generations: 3, population_size: 4, crossover_probability: 0.9, mutation_probability: 1.0,\n",
       "    selection: auto, verbose: true, population: null, seed: null}\n",
       "simulation:\n",
       "  name: test_elegant\n",
       "  evaluate: run_elegant.evaluate_elegant\n",
       "  options: {a: 1}\n",
       "vocs:\n",
       "  name: Elegant_test\n",
       "  description: null\n",
       "  simulation: test_elegant\n",
       "  templates: null\n",
       "  variables:\n",
       "    L1_9_50_phase: [30, 70]\n",
       "    L1_9_25_phase: [50, 80]\n",
       "    L1_10_25_phase: [30, 70]\n",
       "    X1_Xband_phase: [-120, -50]\n",
       "    L2_10_25_phase: [30, 60]\n",
       "  objectives: {sigma_pz: MINIMIZE, norm_emit_x: MINIMIZE}\n",
       "  constraints:\n",
       "    norm_emit_x: [LESS_THAN, 6.0e-07]\n",
       "    ptp_t: [LESS_THAN, 6.0e-14]\n",
       "    charge: [GREATER_THAN, 5.0e-11]\n",
       "  linked_variables: {L2_10_50_phase: L2_10_25_phase}\n",
       "  constants: {L3_10_25_volt: 16628471.874, L3_10_50_volt: 16628471.874, X_MAX: 0.005,\n",
       "    DX: 0.0011, DP: 0.00016, INPUT_FILE: /global/u2/a/aedelen/GitHub/elegant_particles.txt,\n",
       "    sample_interval: 1000}"
      ]
     },
     "execution_count": 5,
     "metadata": {},
     "output_type": "execute_result"
    }
   ],
   "source": [
    "X"
   ]
  },
  {
   "cell_type": "code",
   "execution_count": 6,
   "metadata": {},
   "outputs": [
    {
     "name": "stdout",
     "output_type": "stream",
     "text": [
      "/global/u2/a/aedelen/elegant_example\n"
     ]
    }
   ],
   "source": [
    "!pwd"
   ]
  },
  {
   "cell_type": "code",
   "execution_count": 7,
   "metadata": {},
   "outputs": [
    {
     "name": "stdout",
     "output_type": "stream",
     "text": [
      "/global/cfs/cdirs/m669/aliaksei/elegant2020_rhel7/oag/apps/bin/linux-x86_64/elegant LCLS2cuH.ele -macro=L1_9_50_phase=37.22483484310699  -macro=L1_9_25_phase=51.78869033788133  -macro=L1_10_25_phase=40.58125872791557  -macro=X1_Xband_phase=-72.26457724919416  -macro=L2_10_25_phase=33.461342037733225  -macro=L3_10_25_volt=16628471.874  -macro=L3_10_50_volt=16628471.874  -macro=X_MAX=0.005  -macro=DX=0.0011  -macro=DP=0.00016  -macro=INPUT_FILE=/global/u2/a/aedelen/GitHub/elegant_particles.txt  -macro=sample_interval=1000  -macro=L2_10_50_phase=33.461342037733225 \n"
     ]
    },
    {
     "data": {
      "text/plain": [
       "{'sigma_pz': 16289942.38515568,\n",
       " 'norm_emit_x': 1.1698421667953824e-06,\n",
       " 'sigma_t': 1.5679384099751278e-14,\n",
       " 'mean_pz': 5969615380.122687,\n",
       " 'charge': 1.4145000000000001e-10,\n",
       " 'ptp_t': 1.1097434599814096e-13,\n",
       " 'core_norm_emit_x': 7.988404167239584e-07,\n",
       " 'core_pz': 10323883.547483943,\n",
       " 'core_current': 4027.7641699016795,\n",
       " 'archive': './output/beams/elegant_sim_a473eb3b1a54a99aea101132967cbea7.h5'}"
      ]
     },
     "execution_count": 7,
     "metadata": {},
     "output_type": "execute_result"
    }
   ],
   "source": [
    "X.random_evaluate()"
   ]
  },
  {
   "cell_type": "code",
   "execution_count": null,
   "metadata": {},
   "outputs": [],
   "source": []
  },
  {
   "cell_type": "markdown",
   "metadata": {},
   "source": [
    "## Run GA"
   ]
  },
  {
   "cell_type": "code",
   "execution_count": 8,
   "metadata": {},
   "outputs": [],
   "source": [
    "# Pick one of these\n",
    "#from concurrent.futures import ThreadPoolExecutor as PoolExecutor\n",
    "from concurrent.futures import ProcessPoolExecutor as PoolExecutor\n",
    "\n",
    "executor = PoolExecutor()\n",
    "# This will also work. \n",
    "#executor=None"
   ]
  },
  {
   "cell_type": "code",
   "execution_count": 9,
   "metadata": {},
   "outputs": [
    {
     "name": "stdout",
     "output_type": "stream",
     "text": [
      "Starting at time 2020-11-02T15:34:22-08:00\n",
      "\n",
      "\n",
      "\n",
      " ▄████▄   ███▄    █   ██████   ▄████  ▄▄▄      \n",
      "▒██▀ ▀█   ██ ▀█   █ ▒██    ▒  ██▒ ▀█▒▒████▄    \n",
      "▒▓█    ▄ ▓██  ▀█ ██▒░ ▓██▄   ▒██░▄▄▄░▒██  ▀█▄  \n",
      "▒▓▓▄ ▄██▒▓██▒  ▐▌██▒  ▒   ██▒░▓█  ██▓░██▄▄▄▄██ \n",
      "▒ ▓███▀ ░▒██░   ▓██░▒██████▒▒░▒▓███▀▒ ▓█   ▓██▒\n",
      "░ ░▒ ▒  ░░ ▒░   ▒ ▒ ▒ ▒▓▒ ▒ ░ ░▒   ▒  ▒▒   ▓▒█░\n",
      "  ░  ▒   ░ ░░   ░ ▒░░ ░▒  ░ ░  ░   ░   ▒   ▒▒ ░\n",
      "░           ░   ░ ░ ░  ░  ░  ░ ░   ░   ░   ▒   \n",
      "░ ░               ░       ░        ░       ░  ░\n",
      "░                                              \n",
      "\n",
      "\n",
      "Continuous Non-dominated Sorting Genetic Algorithm\n",
      "Version 0.4.1\n",
      "\n",
      "Creating toolbox from vocs.\n",
      "Created toolbox with 5 variables, 3 constraints, and 2 objectives.\n",
      "    Using selection algorithm: nsga2\n",
      "vocs:\n",
      "{'constants': {'DP': 0.00016,\n",
      "               'DX': 0.0011,\n",
      "               'INPUT_FILE': '/global/u2/a/aedelen/GitHub/elegant_particles.txt',\n",
      "               'L3_10_25_volt': 16628471.874,\n",
      "               'L3_10_50_volt': 16628471.874,\n",
      "               'X_MAX': 0.005,\n",
      "               'sample_interval': 1000},\n",
      " 'constraints': {'charge': ['GREATER_THAN', 5e-11],\n",
      "                 'norm_emit_x': ['LESS_THAN', 6e-07],\n",
      "                 'ptp_t': ['LESS_THAN', 6e-14]},\n",
      " 'description': None,\n",
      " 'linked_variables': {'L2_10_50_phase': 'L2_10_25_phase'},\n",
      " 'name': 'Elegant_test',\n",
      " 'objectives': {'norm_emit_x': 'MINIMIZE', 'sigma_pz': 'MINIMIZE'},\n",
      " 'simulation': 'test_elegant',\n",
      " 'templates': None,\n",
      " 'variables': {'L1_10_25_phase': [30, 70],\n",
      "               'L1_9_25_phase': [50, 80],\n",
      "               'L1_9_50_phase': [30, 70],\n",
      "               'L2_10_25_phase': [30, 60],\n",
      "               'X1_Xband_phase': [-120, -50]}}\n",
      "Initializing with a new population, size 4\n",
      "Maximum generations: 2\n",
      "____________________________________________________\n",
      "4 fitness calculations for initial generation\n",
      "/global/cfs/cdirs/m669/aliaksei/elegant2020_rhel7/oag/apps/bin/linux-x86_64/elegant LCLS2cuH.ele -macro=L1_10_25_phase=30.92713365432335  -macro=L1_9_25_phase=71.17619791231878  -macro=L1_9_50_phase=60.308964258617834  -macro=L2_10_25_phase=44.360182806788714  -macro=X1_Xband_phase=-114.23678307553465  -macro=L3_10_25_volt=16628471.874  -macro=L3_10_50_volt=16628471.874  -macro=X_MAX=0.005  -macro=DX=0.0011  -macro=DP=0.00016  -macro=INPUT_FILE=/global/u2/a/aedelen/GitHub/elegant_particles.txt  -macro=sample_interval=1000  -macro=L2_10_50_phase=44.360182806788714 /global/cfs/cdirs/m669/aliaksei/elegant2020_rhel7/oag/apps/bin/linux-x86_64/elegant LCLS2cuH.ele -macro=L1_10_25_phase=40.27441685468285  -macro=L1_9_25_phase=56.957407477816275  -macro=L1_9_50_phase=30.282631661957105  -macro=L2_10_25_phase=58.1890293016787  -macro=X1_Xband_phase=-80.43729665137232  -macro=L3_10_25_volt=16628471.874  -macro=L3_10_50_volt=16628471.874  -macro=X_MAX=0.005  -macro=DX=0.0011  -macro=DP=0.00016  -macro=INPUT_FILE=/global/u2/a/aedelen/GitHub/elegant_particles.txt  -macro=sample_interval=1000  -macro=L2_10_50_phase=58.1890293016787 \n",
      "\n",
      "/global/cfs/cdirs/m669/aliaksei/elegant2020_rhel7/oag/apps/bin/linux-x86_64/elegant LCLS2cuH.ele -macro=L1_10_25_phase=69.98629756415967  -macro=L1_9_25_phase=60.95484165067039  -macro=L1_9_50_phase=43.845782214213735  -macro=L2_10_25_phase=39.54150762968979  -macro=X1_Xband_phase=-117.32198977693157  -macro=L3_10_25_volt=16628471.874  -macro=L3_10_50_volt=16628471.874  -macro=X_MAX=0.005  -macro=DX=0.0011  -macro=DP=0.00016  -macro=INPUT_FILE=/global/u2/a/aedelen/GitHub/elegant_particles.txt  -macro=sample_interval=1000  -macro=L2_10_50_phase=39.54150762968979 \n",
      "/global/cfs/cdirs/m669/aliaksei/elegant2020_rhel7/oag/apps/bin/linux-x86_64/elegant LCLS2cuH.ele -macro=L1_10_25_phase=42.1076922884894  -macro=L1_9_25_phase=74.14995841653344  -macro=L1_9_50_phase=60.18168658226764  -macro=L2_10_25_phase=53.79794072572132  -macro=X1_Xband_phase=-89.5011766128855  -macro=L3_10_25_volt=16628471.874  -macro=L3_10_50_volt=16628471.874  -macro=X_MAX=0.005  -macro=DX=0.0011  -macro=DP=0.00016  -macro=INPUT_FILE=/global/u2/a/aedelen/GitHub/elegant_particles.txt  -macro=sample_interval=1000  -macro=L2_10_50_phase=53.79794072572132 \n",
      ".Exception caught in cnsga_evaluate: Weights sum to zero, can't be normalized\n",
      "Exception caught in cnsga_evaluate: Weights sum to zero, can't be normalized\n",
      "...done.\n",
      "Submitting first batch of children\n",
      "Pop written to /global/u2/a/aedelen/elegant_example/output/initial_pop_0.json\n",
      "/global/cfs/cdirs/m669/aliaksei/elegant2020_rhel7/oag/apps/bin/linux-x86_64/elegant LCLS2cuH.ele -macro=L1_10_25_phase=30.92713365432335  -macro=L1_9_25_phase=71.17619791231878  -macro=L1_9_50_phase=59.35034944446058  -macro=L2_10_25_phase=58.01688056712992  -macro=X1_Xband_phase=-112.14720282139227  -macro=L3_10_25_volt=16628471.874  -macro=L3_10_50_volt=16628471.874  -macro=X_MAX=0.005  -macro=DX=0.0011  -macro=DP=0.00016  -macro=INPUT_FILE=/global/u2/a/aedelen/GitHub/elegant_particles.txt  -macro=sample_interval=1000  -macro=L2_10_50_phase=58.01688056712992 \n",
      "/global/cfs/cdirs/m669/aliaksei/elegant2020_rhel7/oag/apps/bin/linux-x86_64/elegant LCLS2cuH.ele -macro=L1_10_25_phase=41.621202876241185  -macro=L1_9_25_phase=74.14995841653344  -macro=L1_9_50_phase=60.18168658226764  -macro=L2_10_25_phase=53.79794072572132  -macro=X1_Xband_phase=-116.79425637180047  -macro=L3_10_25_volt=16628471.874  -macro=L3_10_50_volt=16628471.874  -macro=X_MAX=0.005  -macro=DX=0.0011  -macro=DP=0.00016  -macro=INPUT_FILE=/global/u2/a/aedelen/GitHub/elegant_particles.txt  -macro=sample_interval=1000  -macro=L2_10_50_phase=53.79794072572132 /global/cfs/cdirs/m669/aliaksei/elegant2020_rhel7/oag/apps/bin/linux-x86_64/elegant LCLS2cuH.ele -macro=L1_10_25_phase=69.81573717549804  -macro=L1_9_25_phase=61.60890235536068  -macro=L1_9_50_phase=43.845782214213735  -macro=L2_10_25_phase=39.54150762968979  -macro=X1_Xband_phase=-88.14713125310834  -macro=L3_10_25_volt=16628471.874  -macro=L3_10_50_volt=16628471.874  -macro=X_MAX=0.005  -macro=DX=0.0011  -macro=DP=0.00016  -macro=INPUT_FILE=/global/u2/a/aedelen/GitHub/elegant_particles.txt  -macro=sample_interval=1000  -macro=L2_10_50_phase=39.54150762968979 /global/cfs/cdirs/m669/aliaksei/elegant2020_rhel7/oag/apps/bin/linux-x86_64/elegant LCLS2cuH.ele -macro=L1_10_25_phase=40.27441685468285  -macro=L1_9_25_phase=56.957407477816275  -macro=L1_9_50_phase=31.514574630802848  -macro=L2_10_25_phase=44.531115894616136  -macro=X1_Xband_phase=-79.98336881204322  -macro=L3_10_25_volt=16628471.874  -macro=L3_10_50_volt=16628471.874  -macro=X_MAX=0.005  -macro=DX=0.0011  -macro=DP=0.00016  -macro=INPUT_FILE=/global/u2/a/aedelen/GitHub/elegant_particles.txt  -macro=sample_interval=1000  -macro=L2_10_50_phase=44.531115894616136 \n",
      "\n",
      "\n",
      "Exception caught in cnsga_evaluate:Exception caught in cnsga_evaluate:  Weights sum to zero, can't be normalizedWeights sum to zero, can't be normalized\n",
      "\n",
      "../global/cfs/cdirs/m669/aliaksei/elegant2020_rhel7/oag/apps/bin/linux-x86_64/elegant LCLS2cuH.ele -macro=L1_10_25_phase=42.1076922884894  -macro=L1_9_25_phase=74.14995841653344  -macro=L1_9_50_phase=44.43935028311144  -macro=L2_10_25_phase=48.06479486031929  -macro=X1_Xband_phase=-89.5011766128855  -macro=L3_10_25_volt=16628471.874  -macro=L3_10_50_volt=16628471.874  -macro=X_MAX=0.005  -macro=DX=0.0011  -macro=DP=0.00016  -macro=INPUT_FILE=/global/u2/a/aedelen/GitHub/elegant_particles.txt  -macro=sample_interval=1000  -macro=L2_10_50_phase=48.06479486031929 /global/cfs/cdirs/m669/aliaksei/elegant2020_rhel7/oag/apps/bin/linux-x86_64/elegant LCLS2cuH.ele -macro=L1_10_25_phase=69.99430575748113  -macro=L1_9_25_phase=60.95484165067039  -macro=L1_9_50_phase=59.58811850213859  -macro=L2_10_25_phase=39.574373219413985  -macro=X1_Xband_phase=-116.00077848762984  -macro=L3_10_25_volt=16628471.874  -macro=L3_10_50_volt=16628471.874  -macro=X_MAX=0.005  -macro=DX=0.0011  -macro=DP=0.00016  -macro=INPUT_FILE=/global/u2/a/aedelen/GitHub/elegant_particles.txt  -macro=sample_interval=1000  -macro=L2_10_50_phase=39.574373219413985 \n",
      "\n",
      "./global/cfs/cdirs/m669/aliaksei/elegant2020_rhel7/oag/apps/bin/linux-x86_64/elegant LCLS2cuH.ele -macro=L1_10_25_phase=31.38199133012322  -macro=L1_9_25_phase=56.62457966809411  -macro=L1_9_50_phase=60.01621965379426  -macro=L2_10_25_phase=58.97960527481975  -macro=X1_Xband_phase=-80.45176071770962  -macro=L3_10_25_volt=16628471.874  -macro=L3_10_50_volt=16628471.874  -macro=X_MAX=0.005  -macro=DX=0.0011  -macro=DP=0.00016  -macro=INPUT_FILE=/global/u2/a/aedelen/GitHub/elegant_particles.txt  -macro=sample_interval=1000  -macro=L2_10_50_phase=58.97960527481975 \n",
      "./global/cfs/cdirs/m669/aliaksei/elegant2020_rhel7/oag/apps/bin/linux-x86_64/elegant LCLS2cuH.ele -macro=L1_10_25_phase=39.82181885539222  -macro=L1_9_25_phase=71.33810559987462  -macro=L1_9_50_phase=30.861654039661126  -macro=L2_10_25_phase=43.54297681233031  -macro=X1_Xband_phase=-114.22147117719018  -macro=L3_10_25_volt=16628471.874  -macro=L3_10_50_volt=16628471.874  -macro=X_MAX=0.005  -macro=DX=0.0011  -macro=DP=0.00016  -macro=INPUT_FILE=/global/u2/a/aedelen/GitHub/elegant_particles.txt  -macro=sample_interval=1000  -macro=L2_10_50_phase=43.54297681233031 \n",
      ".done.\n",
      "__________________________________________________________\n",
      "Generation 0 completed in 0.01163 minutes\n",
      "Pop written to /global/u2/a/aedelen/elegant_example/output/gen_1.json\n",
      "Pop written to /global/u2/a/aedelen/elegant_example/output/pop_1.json\n",
      "/global/cfs/cdirs/m669/aliaksei/elegant2020_rhel7/oag/apps/bin/linux-x86_64/elegant LCLS2cuH.ele -macro=L1_10_25_phase=30.92713365432335  -macro=L1_9_25_phase=71.17619791231878  -macro=L1_9_50_phase=59.35034944446058  -macro=L2_10_25_phase=58.01688056712992  -macro=X1_Xband_phase=-112.14720282139227  -macro=L3_10_25_volt=16628471.874  -macro=L3_10_50_volt=16628471.874  -macro=X_MAX=0.005  -macro=DX=0.0011  -macro=DP=0.00016  -macro=INPUT_FILE=/global/u2/a/aedelen/GitHub/elegant_particles.txt  -macro=sample_interval=1000  -macro=L2_10_50_phase=58.01688056712992 \n",
      "./global/cfs/cdirs/m669/aliaksei/elegant2020_rhel7/oag/apps/bin/linux-x86_64/elegant LCLS2cuH.ele -macro=L1_10_25_phase=40.27441685468285  -macro=L1_9_25_phase=56.957407477816275  -macro=L1_9_50_phase=30.282631661957105  -macro=L2_10_25_phase=51.18118619990545  -macro=X1_Xband_phase=-80.43729665137232  -macro=L3_10_25_volt=16628471.874  -macro=L3_10_50_volt=16628471.874  -macro=X_MAX=0.005  -macro=DX=0.0011  -macro=DP=0.00016  -macro=INPUT_FILE=/global/u2/a/aedelen/GitHub/elegant_particles.txt  -macro=sample_interval=1000  -macro=L2_10_50_phase=51.18118619990545 \n",
      "./global/cfs/cdirs/m669/aliaksei/elegant2020_rhel7/oag/apps/bin/linux-x86_64/elegant LCLS2cuH.ele -macro=L1_10_25_phase=31.320908393303306  -macro=L1_9_25_phase=74.14995841653344  -macro=L1_9_50_phase=44.43935028311144  -macro=L2_10_25_phase=48.06479486031929  -macro=X1_Xband_phase=-99.73069415911317  -macro=L3_10_25_volt=16628471.874  -macro=L3_10_50_volt=16628471.874  -macro=X_MAX=0.005  -macro=DX=0.0011  -macro=DP=0.00016  -macro=INPUT_FILE=/global/u2/a/aedelen/GitHub/elegant_particles.txt  -macro=sample_interval=1000  -macro=L2_10_50_phase=48.06479486031929 \n",
      "./global/cfs/cdirs/m669/aliaksei/elegant2020_rhel7/oag/apps/bin/linux-x86_64/elegant LCLS2cuH.ele -macro=L1_10_25_phase=41.71890131719454  -macro=L1_9_25_phase=71.17619791231878  -macro=L1_9_50_phase=60.308964258617834  -macro=L2_10_25_phase=44.360182806788714  -macro=X1_Xband_phase=-114.23678307553465  -macro=L3_10_25_volt=16628471.874  -macro=L3_10_50_volt=16628471.874  -macro=X_MAX=0.005  -macro=DX=0.0011  -macro=DP=0.00016  -macro=INPUT_FILE=/global/u2/a/aedelen/GitHub/elegant_particles.txt  -macro=sample_interval=1000  -macro=L2_10_50_phase=44.360182806788714 \n",
      ".done.\n",
      "__________________________________________________________\n",
      "Generation 1 completed in 0.00785 minutes\n",
      "Pop written to /global/u2/a/aedelen/elegant_example/output/gen_2.json\n",
      "Pop written to /global/u2/a/aedelen/elegant_example/output/pop_2.json\n",
      "/global/cfs/cdirs/m669/aliaksei/elegant2020_rhel7/oag/apps/bin/linux-x86_64/elegant LCLS2cuH.ele -macro=L1_10_25_phase=40.26613922787529  -macro=L1_9_25_phase=74.38884903468369  -macro=L1_9_50_phase=30.282631661957105  -macro=L2_10_25_phase=58.1890293016787  -macro=X1_Xband_phase=-80.43729665137232  -macro=L3_10_25_volt=16628471.874  -macro=L3_10_50_volt=16628471.874  -macro=X_MAX=0.005  -macro=DX=0.0011  -macro=DP=0.00016  -macro=INPUT_FILE=/global/u2/a/aedelen/GitHub/elegant_particles.txt  -macro=sample_interval=1000  -macro=L2_10_50_phase=58.1890293016787 \n"
     ]
    }
   ],
   "source": [
    "# Change max generations\n",
    "X.algorithm['options']['max_generations'] = 2\n",
    "X.run(executor=executor)"
   ]
  },
  {
   "cell_type": "code",
   "execution_count": 11,
   "metadata": {},
   "outputs": [],
   "source": [
    "#settings = {'L1_10_25_phase': 48.10988000636041,\n",
    "#'L1_9_25_phase': 7.722087823054991,\n",
    "#'L1_9_50_phase': -34.63546794399416,\n",
    "#'L2_10_50_phase': -49.99535063902283,\n",
    "#'X1_Xband_phase': 97.87343465656124,\n",
    "#'L2_10_25_phase': 55.5}"
   ]
  },
  {
   "cell_type": "code",
   "execution_count": 12,
   "metadata": {},
   "outputs": [],
   "source": [
    "#X.evaluate(settings)"
   ]
  },
  {
   "cell_type": "code",
   "execution_count": 13,
   "metadata": {},
   "outputs": [
    {
     "data": {
      "image/png": "[encoded data removed]",
      "text/plain": [
       "<Figure size 360x360 with 1 Axes>"
      ]
     },
     "metadata": {
      "needs_background": "light"
     },
     "output_type": "display_data"
    }
   ],
   "source": [
    "# Extract objectives from output\n",
    "import numpy as np\n",
    "key1, key2 = list(X.vocs['objectives'])\n",
    "\n",
    "x = [o[key1] for o in X.population['outputs']]\n",
    "y = [o[key2] for o in X.population['outputs']]\n",
    "\n",
    "import matplotlib.pyplot as plt\n",
    "%matplotlib inline\n",
    "\n",
    "fig, ax = plt.subplots(figsize=(5,5))\n",
    "\n",
    "#ax.scatter(x, y, color='blue')\n",
    "ax.plot(np.asarray(x)/1.0e6, np.asarray(y),'.', color='blue')\n",
    "#ax.set_xlim(X_RANGE)\n",
    "#ax.set_ylim(Y_RANGE)\n",
    "ax.set_xlabel(key1)\n",
    "ax.set_ylabel(key2)\n",
    "ax.set_aspect('auto')\n",
    "#ax.set_title(NAME)"
   ]
  },
  {
   "cell_type": "markdown",
   "metadata": {},
   "source": [
    "## Load Data from Json"
   ]
  },
  {
   "cell_type": "code",
   "execution_count": 14,
   "metadata": {},
   "outputs": [],
   "source": [
    "from xopt.dataset import load_all_xopt_data"
   ]
  },
  {
   "cell_type": "code",
   "execution_count": 15,
   "metadata": {},
   "outputs": [
    {
     "data": {
      "text/plain": [
       "['output/gen_2.json', 'output/gen_1.json']"
      ]
     },
     "execution_count": 15,
     "metadata": {},
     "output_type": "execute_result"
    }
   ],
   "source": [
    "from glob import glob\n",
    "jlist = glob('output/gen*json')\n",
    "jlist"
   ]
  },
  {
   "cell_type": "code",
   "execution_count": 16,
   "metadata": {},
   "outputs": [],
   "source": [
    "DAT = load_all_xopt_data(jlist)\n"
   ]
  },
  {
   "cell_type": "code",
   "execution_count": 17,
   "metadata": {},
   "outputs": [
    {
     "data": {
      "text/html": [
       "<div>\n",
       "<style scoped>\n",
       "    .dataframe tbody tr th:only-of-type {\n",
       "        vertical-align: middle;\n",
       "    }\n",
       "\n",
       "    .dataframe tbody tr th {\n",
       "        vertical-align: top;\n",
       "    }\n",
       "\n",
       "    .dataframe thead th {\n",
       "        text-align: right;\n",
       "    }\n",
       "</style>\n",
       "<table border=\"1\" class=\"dataframe\">\n",
       "  <thead>\n",
       "    <tr style=\"text-align: right;\">\n",
       "      <th></th>\n",
       "      <th>L1_10_25_phase</th>\n",
       "      <th>L1_9_25_phase</th>\n",
       "      <th>L1_9_50_phase</th>\n",
       "      <th>L2_10_25_phase</th>\n",
       "      <th>X1_Xband_phase</th>\n",
       "      <th>L3_10_25_volt</th>\n",
       "      <th>L3_10_50_volt</th>\n",
       "      <th>X_MAX</th>\n",
       "      <th>DX</th>\n",
       "      <th>DP</th>\n",
       "      <th>...</th>\n",
       "      <th>sigma_pz</th>\n",
       "      <th>norm_emit_x</th>\n",
       "      <th>sigma_t</th>\n",
       "      <th>mean_pz</th>\n",
       "      <th>charge</th>\n",
       "      <th>ptp_t</th>\n",
       "      <th>core_norm_emit_x</th>\n",
       "      <th>core_pz</th>\n",
       "      <th>core_current</th>\n",
       "      <th>archive</th>\n",
       "    </tr>\n",
       "  </thead>\n",
       "  <tbody>\n",
       "    <tr>\n",
       "      <th>0</th>\n",
       "      <td>61.074294</td>\n",
       "      <td>62.062394</td>\n",
       "      <td>35.356375</td>\n",
       "      <td>51.499169</td>\n",
       "      <td>-76.098940</td>\n",
       "      <td>1.662847e+07</td>\n",
       "      <td>1.662847e+07</td>\n",
       "      <td>0.005</td>\n",
       "      <td>0.0011</td>\n",
       "      <td>0.00016</td>\n",
       "      <td>...</td>\n",
       "      <td>2.096161e+07</td>\n",
       "      <td>8.827660e-07</td>\n",
       "      <td>2.066807e-14</td>\n",
       "      <td>5.964759e+09</td>\n",
       "      <td>1.134000e-10</td>\n",
       "      <td>8.524220e-14</td>\n",
       "      <td>5.098938e-07</td>\n",
       "      <td>7.469646e+06</td>\n",
       "      <td>1972.667218</td>\n",
       "      <td>./output/beams/elegant_sim_23a0f510d766168501f...</td>\n",
       "    </tr>\n",
       "    <tr>\n",
       "      <th>1</th>\n",
       "      <td>37.889814</td>\n",
       "      <td>57.195531</td>\n",
       "      <td>51.047675</td>\n",
       "      <td>51.765642</td>\n",
       "      <td>-59.070867</td>\n",
       "      <td>1.662847e+07</td>\n",
       "      <td>1.662847e+07</td>\n",
       "      <td>0.005</td>\n",
       "      <td>0.0011</td>\n",
       "      <td>0.00016</td>\n",
       "      <td>...</td>\n",
       "      <td>2.096161e+07</td>\n",
       "      <td>8.827660e-07</td>\n",
       "      <td>2.066807e-14</td>\n",
       "      <td>5.964759e+09</td>\n",
       "      <td>1.134000e-10</td>\n",
       "      <td>8.524220e-14</td>\n",
       "      <td>5.098938e-07</td>\n",
       "      <td>7.469646e+06</td>\n",
       "      <td>1972.667218</td>\n",
       "      <td>./output/beams/elegant_sim_96b29fbaf62aefa81a1...</td>\n",
       "    </tr>\n",
       "    <tr>\n",
       "      <th>2</th>\n",
       "      <td>36.548020</td>\n",
       "      <td>65.777861</td>\n",
       "      <td>54.221227</td>\n",
       "      <td>55.248344</td>\n",
       "      <td>-59.475023</td>\n",
       "      <td>1.662847e+07</td>\n",
       "      <td>1.662847e+07</td>\n",
       "      <td>0.005</td>\n",
       "      <td>0.0011</td>\n",
       "      <td>0.00016</td>\n",
       "      <td>...</td>\n",
       "      <td>2.096161e+07</td>\n",
       "      <td>8.827660e-07</td>\n",
       "      <td>2.066807e-14</td>\n",
       "      <td>5.964759e+09</td>\n",
       "      <td>1.134000e-10</td>\n",
       "      <td>8.524220e-14</td>\n",
       "      <td>5.098938e-07</td>\n",
       "      <td>7.469646e+06</td>\n",
       "      <td>1972.667218</td>\n",
       "      <td>./output/beams/elegant_sim_e0bf298db3a95661af4...</td>\n",
       "    </tr>\n",
       "    <tr>\n",
       "      <th>3</th>\n",
       "      <td>34.753855</td>\n",
       "      <td>54.191747</td>\n",
       "      <td>63.651679</td>\n",
       "      <td>54.961527</td>\n",
       "      <td>-73.400363</td>\n",
       "      <td>1.662847e+07</td>\n",
       "      <td>1.662847e+07</td>\n",
       "      <td>0.005</td>\n",
       "      <td>0.0011</td>\n",
       "      <td>0.00016</td>\n",
       "      <td>...</td>\n",
       "      <td>2.096161e+07</td>\n",
       "      <td>8.827660e-07</td>\n",
       "      <td>2.066807e-14</td>\n",
       "      <td>5.964759e+09</td>\n",
       "      <td>1.134000e-10</td>\n",
       "      <td>8.524220e-14</td>\n",
       "      <td>5.098938e-07</td>\n",
       "      <td>7.469646e+06</td>\n",
       "      <td>1972.667218</td>\n",
       "      <td>./output/beams/elegant_sim_0e60c9abc5cd34db8df...</td>\n",
       "    </tr>\n",
       "    <tr>\n",
       "      <th>4</th>\n",
       "      <td>54.070006</td>\n",
       "      <td>69.170769</td>\n",
       "      <td>35.631350</td>\n",
       "      <td>50.896812</td>\n",
       "      <td>-74.343868</td>\n",
       "      <td>1.662847e+07</td>\n",
       "      <td>1.662847e+07</td>\n",
       "      <td>0.005</td>\n",
       "      <td>0.0011</td>\n",
       "      <td>0.00016</td>\n",
       "      <td>...</td>\n",
       "      <td>2.096161e+07</td>\n",
       "      <td>8.827660e-07</td>\n",
       "      <td>2.066807e-14</td>\n",
       "      <td>5.964759e+09</td>\n",
       "      <td>1.134000e-10</td>\n",
       "      <td>8.524220e-14</td>\n",
       "      <td>5.098938e-07</td>\n",
       "      <td>7.469646e+06</td>\n",
       "      <td>1972.667218</td>\n",
       "      <td>./output/beams/elegant_sim_213420102a1014edab3...</td>\n",
       "    </tr>\n",
       "    <tr>\n",
       "      <th>5</th>\n",
       "      <td>37.889814</td>\n",
       "      <td>57.195531</td>\n",
       "      <td>53.695003</td>\n",
       "      <td>38.582577</td>\n",
       "      <td>-59.548681</td>\n",
       "      <td>1.662847e+07</td>\n",
       "      <td>1.662847e+07</td>\n",
       "      <td>0.005</td>\n",
       "      <td>0.0011</td>\n",
       "      <td>0.00016</td>\n",
       "      <td>...</td>\n",
       "      <td>2.096161e+07</td>\n",
       "      <td>8.827660e-07</td>\n",
       "      <td>2.066807e-14</td>\n",
       "      <td>5.964759e+09</td>\n",
       "      <td>1.134000e-10</td>\n",
       "      <td>8.524220e-14</td>\n",
       "      <td>5.098938e-07</td>\n",
       "      <td>7.469646e+06</td>\n",
       "      <td>1972.667218</td>\n",
       "      <td>./output/beams/elegant_sim_1388d755f20ecb0d7a7...</td>\n",
       "    </tr>\n",
       "    <tr>\n",
       "      <th>6</th>\n",
       "      <td>61.751410</td>\n",
       "      <td>64.034597</td>\n",
       "      <td>52.913835</td>\n",
       "      <td>51.474425</td>\n",
       "      <td>-99.523917</td>\n",
       "      <td>1.662847e+07</td>\n",
       "      <td>1.662847e+07</td>\n",
       "      <td>0.005</td>\n",
       "      <td>0.0011</td>\n",
       "      <td>0.00016</td>\n",
       "      <td>...</td>\n",
       "      <td>2.096161e+07</td>\n",
       "      <td>8.827660e-07</td>\n",
       "      <td>2.066807e-14</td>\n",
       "      <td>5.964759e+09</td>\n",
       "      <td>1.134000e-10</td>\n",
       "      <td>8.524220e-14</td>\n",
       "      <td>5.098938e-07</td>\n",
       "      <td>7.469646e+06</td>\n",
       "      <td>1972.667218</td>\n",
       "      <td>./output/beams/elegant_sim_d7f97455ca9efbd1ebb...</td>\n",
       "    </tr>\n",
       "    <tr>\n",
       "      <th>7</th>\n",
       "      <td>61.743432</td>\n",
       "      <td>68.279162</td>\n",
       "      <td>53.924006</td>\n",
       "      <td>50.872068</td>\n",
       "      <td>-97.768846</td>\n",
       "      <td>1.662847e+07</td>\n",
       "      <td>1.662847e+07</td>\n",
       "      <td>0.005</td>\n",
       "      <td>0.0011</td>\n",
       "      <td>0.00016</td>\n",
       "      <td>...</td>\n",
       "      <td>2.096161e+07</td>\n",
       "      <td>8.827660e-07</td>\n",
       "      <td>2.066807e-14</td>\n",
       "      <td>5.964759e+09</td>\n",
       "      <td>1.134000e-10</td>\n",
       "      <td>8.524220e-14</td>\n",
       "      <td>5.098938e-07</td>\n",
       "      <td>7.469646e+06</td>\n",
       "      <td>1972.667218</td>\n",
       "      <td>./output/beams/elegant_sim_977b34626611c9824b3...</td>\n",
       "    </tr>\n",
       "    <tr>\n",
       "      <th>8</th>\n",
       "      <td>64.991649</td>\n",
       "      <td>54.191747</td>\n",
       "      <td>63.651679</td>\n",
       "      <td>38.582577</td>\n",
       "      <td>-73.340796</td>\n",
       "      <td>1.662847e+07</td>\n",
       "      <td>1.662847e+07</td>\n",
       "      <td>0.005</td>\n",
       "      <td>0.0011</td>\n",
       "      <td>0.00016</td>\n",
       "      <td>...</td>\n",
       "      <td>2.096161e+07</td>\n",
       "      <td>8.827660e-07</td>\n",
       "      <td>2.066807e-14</td>\n",
       "      <td>5.964759e+09</td>\n",
       "      <td>1.134000e-10</td>\n",
       "      <td>8.524220e-14</td>\n",
       "      <td>5.098938e-07</td>\n",
       "      <td>7.469646e+06</td>\n",
       "      <td>1972.667218</td>\n",
       "      <td>./output/beams/elegant_sim_6550608582ec24844b3...</td>\n",
       "    </tr>\n",
       "  </tbody>\n",
       "</table>\n",
       "<p>9 rows × 23 columns</p>\n",
       "</div>"
      ],
      "text/plain": [
       "   L1_10_25_phase  L1_9_25_phase  L1_9_50_phase  L2_10_25_phase  \\\n",
       "0       61.074294      62.062394      35.356375       51.499169   \n",
       "1       37.889814      57.195531      51.047675       51.765642   \n",
       "2       36.548020      65.777861      54.221227       55.248344   \n",
       "3       34.753855      54.191747      63.651679       54.961527   \n",
       "4       54.070006      69.170769      35.631350       50.896812   \n",
       "5       37.889814      57.195531      53.695003       38.582577   \n",
       "6       61.751410      64.034597      52.913835       51.474425   \n",
       "7       61.743432      68.279162      53.924006       50.872068   \n",
       "8       64.991649      54.191747      63.651679       38.582577   \n",
       "\n",
       "   X1_Xband_phase  L3_10_25_volt  L3_10_50_volt  X_MAX      DX       DP  ...  \\\n",
       "0      -76.098940   1.662847e+07   1.662847e+07  0.005  0.0011  0.00016  ...   \n",
       "1      -59.070867   1.662847e+07   1.662847e+07  0.005  0.0011  0.00016  ...   \n",
       "2      -59.475023   1.662847e+07   1.662847e+07  0.005  0.0011  0.00016  ...   \n",
       "3      -73.400363   1.662847e+07   1.662847e+07  0.005  0.0011  0.00016  ...   \n",
       "4      -74.343868   1.662847e+07   1.662847e+07  0.005  0.0011  0.00016  ...   \n",
       "5      -59.548681   1.662847e+07   1.662847e+07  0.005  0.0011  0.00016  ...   \n",
       "6      -99.523917   1.662847e+07   1.662847e+07  0.005  0.0011  0.00016  ...   \n",
       "7      -97.768846   1.662847e+07   1.662847e+07  0.005  0.0011  0.00016  ...   \n",
       "8      -73.340796   1.662847e+07   1.662847e+07  0.005  0.0011  0.00016  ...   \n",
       "\n",
       "       sigma_pz   norm_emit_x       sigma_t       mean_pz        charge  \\\n",
       "0  2.096161e+07  8.827660e-07  2.066807e-14  5.964759e+09  1.134000e-10   \n",
       "1  2.096161e+07  8.827660e-07  2.066807e-14  5.964759e+09  1.134000e-10   \n",
       "2  2.096161e+07  8.827660e-07  2.066807e-14  5.964759e+09  1.134000e-10   \n",
       "3  2.096161e+07  8.827660e-07  2.066807e-14  5.964759e+09  1.134000e-10   \n",
       "4  2.096161e+07  8.827660e-07  2.066807e-14  5.964759e+09  1.134000e-10   \n",
       "5  2.096161e+07  8.827660e-07  2.066807e-14  5.964759e+09  1.134000e-10   \n",
       "6  2.096161e+07  8.827660e-07  2.066807e-14  5.964759e+09  1.134000e-10   \n",
       "7  2.096161e+07  8.827660e-07  2.066807e-14  5.964759e+09  1.134000e-10   \n",
       "8  2.096161e+07  8.827660e-07  2.066807e-14  5.964759e+09  1.134000e-10   \n",
       "\n",
       "          ptp_t  core_norm_emit_x       core_pz  core_current  \\\n",
       "0  8.524220e-14      5.098938e-07  7.469646e+06   1972.667218   \n",
       "1  8.524220e-14      5.098938e-07  7.469646e+06   1972.667218   \n",
       "2  8.524220e-14      5.098938e-07  7.469646e+06   1972.667218   \n",
       "3  8.524220e-14      5.098938e-07  7.469646e+06   1972.667218   \n",
       "4  8.524220e-14      5.098938e-07  7.469646e+06   1972.667218   \n",
       "5  8.524220e-14      5.098938e-07  7.469646e+06   1972.667218   \n",
       "6  8.524220e-14      5.098938e-07  7.469646e+06   1972.667218   \n",
       "7  8.524220e-14      5.098938e-07  7.469646e+06   1972.667218   \n",
       "8  8.524220e-14      5.098938e-07  7.469646e+06   1972.667218   \n",
       "\n",
       "                                             archive  \n",
       "0  ./output/beams/elegant_sim_23a0f510d766168501f...  \n",
       "1  ./output/beams/elegant_sim_96b29fbaf62aefa81a1...  \n",
       "2  ./output/beams/elegant_sim_e0bf298db3a95661af4...  \n",
       "3  ./output/beams/elegant_sim_0e60c9abc5cd34db8df...  \n",
       "4  ./output/beams/elegant_sim_213420102a1014edab3...  \n",
       "5  ./output/beams/elegant_sim_1388d755f20ecb0d7a7...  \n",
       "6  ./output/beams/elegant_sim_d7f97455ca9efbd1ebb...  \n",
       "7  ./output/beams/elegant_sim_977b34626611c9824b3...  \n",
       "8  ./output/beams/elegant_sim_6550608582ec24844b3...  \n",
       "\n",
       "[9 rows x 23 columns]"
      ]
     },
     "execution_count": 17,
     "metadata": {},
     "output_type": "execute_result"
    }
   ],
   "source": [
    "DAT"
   ]
  },
  {
   "cell_type": "code",
   "execution_count": 18,
   "metadata": {},
   "outputs": [],
   "source": [
    "#see archive file list --> particle distributions"
   ]
  },
  {
   "cell_type": "code",
   "execution_count": 19,
   "metadata": {},
   "outputs": [
    {
     "data": {
      "text/plain": [
       "0    ./output/beams/elegant_sim_23a0f510d766168501f...\n",
       "1    ./output/beams/elegant_sim_96b29fbaf62aefa81a1...\n",
       "2    ./output/beams/elegant_sim_e0bf298db3a95661af4...\n",
       "3    ./output/beams/elegant_sim_0e60c9abc5cd34db8df...\n",
       "4    ./output/beams/elegant_sim_213420102a1014edab3...\n",
       "5    ./output/beams/elegant_sim_1388d755f20ecb0d7a7...\n",
       "6    ./output/beams/elegant_sim_d7f97455ca9efbd1ebb...\n",
       "7    ./output/beams/elegant_sim_977b34626611c9824b3...\n",
       "8    ./output/beams/elegant_sim_6550608582ec24844b3...\n",
       "Name: archive, dtype: object"
      ]
     },
     "execution_count": 19,
     "metadata": {},
     "output_type": "execute_result"
    }
   ],
   "source": [
    "DAT['archive']"
   ]
  },
  {
   "cell_type": "code",
   "execution_count": 20,
   "metadata": {},
   "outputs": [
    {
     "data": {
      "text/plain": [
       "'./output/beams/elegant_sim_23a0f510d766168501f1b889e8c24f6c.h5'"
      ]
     },
     "execution_count": 20,
     "metadata": {},
     "output_type": "execute_result"
    }
   ],
   "source": [
    "DAT['archive'][0]"
   ]
  },
  {
   "cell_type": "markdown",
   "metadata": {},
   "source": [
    "## Load Particle Distribution"
   ]
  },
  {
   "cell_type": "code",
   "execution_count": 25,
   "metadata": {},
   "outputs": [],
   "source": [
    "from pmd_beamphysics import ParticleGroup\n",
    "from h5py import File\n",
    "import h5py"
   ]
  },
  {
   "cell_type": "code",
   "execution_count": null,
   "metadata": {},
   "outputs": [],
   "source": []
  },
  {
   "cell_type": "code",
   "execution_count": 26,
   "metadata": {},
   "outputs": [
    {
     "name": "stdout",
     "output_type": "stream",
     "text": [
      "['basePath', 'chargeUnitSI', 'dataType', 'numParticles', 'openPMD', 'openPMDextension', 'particlesPath', 'speciesType', 'totalCharge']\n"
     ]
    }
   ],
   "source": [
    "with h5py.File(DAT['archive'][0], 'r') as h5:\n",
    "    print(list(h5.attrs))"
   ]
  },
  {
   "cell_type": "code",
   "execution_count": 27,
   "metadata": {},
   "outputs": [
    {
     "data": {
      "text/plain": [
       "<ParticleGroup with 756 particles at 0x2aaad6130460>"
      ]
     },
     "execution_count": 27,
     "metadata": {},
     "output_type": "execute_result"
    }
   ],
   "source": [
    "# This will convert to a data dict\n",
    "P = ParticleGroup(DAT['archive'][0])\n",
    "P"
   ]
  },
  {
   "cell_type": "code",
   "execution_count": 28,
   "metadata": {},
   "outputs": [
    {
     "data": {
      "image/png": "[encoded data removed]",
      "text/plain": [
       "<Figure size 432x288 with 3 Axes>"
      ]
     },
     "metadata": {
      "needs_background": "light"
     },
     "output_type": "display_data"
    }
   ],
   "source": [
    "\n",
    "P.plot('delta_t', 'delta_pz')"
   ]
  },
  {
   "cell_type": "code",
   "execution_count": null,
   "metadata": {},
   "outputs": [],
   "source": []
  }
 ],
 "metadata": {
  "kernelspec": {
   "display_name": "LUME",
   "language": "python",
   "name": "lume"
  },
  "language_info": {
   "codemirror_mode": {
    "name": "ipython",
    "version": 3
   },
   "file_extension": ".py",
   "mimetype": "text/x-python",
   "name": "python",
   "nbconvert_exporter": "python",
   "pygments_lexer": "ipython3",
   "version": "3.8.6"
  }
 },
 "nbformat": 4,
 "nbformat_minor": 4
}
